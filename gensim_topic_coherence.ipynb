{
 "cells": [
  {
   "attachments": {},
   "cell_type": "markdown",
   "metadata": {},
   "source": [
    "### Imports"
   ]
  },
  {
   "cell_type": "code",
   "execution_count": 8,
   "metadata": {},
   "outputs": [],
   "source": [
    "from gensim.models.coherencemodel import CoherenceModel\n",
    "from gensim.models.ldamodel import LdaModel\n",
    "from gensim.corpora.dictionary import Dictionary\n",
    "\n",
    "import pyLDAvis.gensim_models\n",
    "\n",
    "import numpy as np\n",
    "import logging\n",
    "import warnings\n",
    "warnings.filterwarnings('ignore')\n",
    "\n",
    "from numpy import array\n",
    "\n",
    "from nlp import *"
   ]
  },
  {
   "cell_type": "markdown",
   "metadata": {},
   "source": [
    "### Setting up Logger"
   ]
  },
  {
   "cell_type": "code",
   "execution_count": 9,
   "metadata": {},
   "outputs": [
    {
     "name": "stderr",
     "output_type": "stream",
     "text": [
      "DEBUG:root:test\n"
     ]
    }
   ],
   "source": [
    "logger = logging.getLogger()\n",
    "logger.setLevel(logging.DEBUG)\n",
    "logging.debug(\"test\")"
   ]
  },
  {
   "cell_type": "markdown",
   "metadata": {},
   "source": [
    "### Set up corpus"
   ]
  },
  {
   "cell_type": "code",
   "execution_count": 10,
   "metadata": {},
   "outputs": [
    {
     "name": "stderr",
     "output_type": "stream",
     "text": [
      "INFO:gensim.corpora.dictionary:adding document #0 to Dictionary<0 unique tokens: []>\n",
      "INFO:gensim.corpora.dictionary:built Dictionary<12 unique tokens: ['computer', 'human', 'interface', 'response', 'survey']...> from 9 documents (total 29 corpus positions)\n",
      "DEBUG:gensim.utils:starting a new internal lifecycle event log for Dictionary\n",
      "INFO:gensim.utils:Dictionary lifecycle event {'msg': \"built Dictionary<12 unique tokens: ['computer', 'human', 'interface', 'response', 'survey']...> from 9 documents (total 29 corpus positions)\", 'datetime': '2023-01-31T12:29:20.027856', 'gensim': '4.3.0', 'python': '3.10.8 | packaged by conda-forge | (main, Nov 22 2022, 08:26:04) [GCC 10.4.0]', 'platform': 'Linux-5.15.0-58-generic-x86_64-with-glibc2.35', 'event': 'created'}\n"
     ]
    }
   ],
   "source": [
    "texts = [['human', 'interface', 'computer'],\n",
    "         ['survey', 'user', 'computer', 'system', 'response', 'time'],\n",
    "         ['eps', 'user', 'interface', 'system'],\n",
    "         ['system', 'human', 'system', 'eps'],\n",
    "         ['user', 'response', 'time'],\n",
    "         ['trees'],\n",
    "         ['graph', 'trees'],\n",
    "         ['graph', 'minors', 'trees'],\n",
    "         ['graph', 'minors', 'survey']]\n",
    "\n",
    "vocab = Dictionary(texts)\n",
    "bow_corpus = [vocab.doc2bow(text) for text in texts]"
   ]
  },
  {
   "attachments": {},
   "cell_type": "markdown",
   "metadata": {},
   "source": [
    "### train LDA models"
   ]
  },
  {
   "cell_type": "code",
   "execution_count": 11,
   "metadata": {},
   "outputs": [
    {
     "name": "stderr",
     "output_type": "stream",
     "text": [
      "INFO:gensim.models.ldamodel:using symmetric alpha at 0.5\n",
      "INFO:gensim.models.ldamodel:using symmetric eta at 0.5\n",
      "INFO:gensim.models.ldamodel:using serial LDA version on this node\n",
      "INFO:gensim.models.ldamodel:running online (single-pass) LDA training, 2 topics, 1 passes over the supplied corpus of 9 documents, updating model once every 9 documents, evaluating perplexity every 9 documents, iterating 50x with a convergence threshold of 0.001000\n",
      "WARNING:gensim.models.ldamodel:too few updates, training might not converge; consider increasing the number of passes or iterations to improve accuracy\n",
      "DEBUG:gensim.models.ldamodel:bound: at document #0\n",
      "INFO:gensim.models.ldamodel:-3.305 per-word bound, 9.9 perplexity estimate based on a held-out corpus of 9 documents with 29 words\n",
      "INFO:gensim.models.ldamodel:PROGRESS: pass 0, at document #9/9\n",
      "DEBUG:gensim.models.ldamodel:performing inference on a chunk of 9 documents\n",
      "DEBUG:gensim.models.ldamodel:2/9 documents converged within 50 iterations\n",
      "DEBUG:gensim.models.ldamodel:updating topics\n",
      "INFO:gensim.models.ldamodel:topic #0 (0.500): 0.149*\"graph\" + 0.116*\"minors\" + 0.091*\"human\" + 0.090*\"trees\" + 0.082*\"interface\" + 0.080*\"computer\" + 0.079*\"survey\" + 0.078*\"system\" + 0.066*\"eps\" + 0.061*\"user\"\n",
      "INFO:gensim.models.ldamodel:topic #1 (0.500): 0.150*\"system\" + 0.121*\"user\" + 0.102*\"trees\" + 0.089*\"time\" + 0.083*\"response\" + 0.078*\"eps\" + 0.069*\"survey\" + 0.069*\"computer\" + 0.068*\"interface\" + 0.064*\"graph\"\n",
      "INFO:gensim.models.ldamodel:topic diff=0.320817, rho=1.000000\n",
      "DEBUG:gensim.utils:starting a new internal lifecycle event log for LdaModel\n",
      "INFO:gensim.utils:LdaModel lifecycle event {'msg': 'trained LdaModel<num_terms=12, num_topics=2, decay=0.5, chunksize=2000> in 0.04s', 'datetime': '2023-01-31T12:29:20.136776', 'gensim': '4.3.0', 'python': '3.10.8 | packaged by conda-forge | (main, Nov 22 2022, 08:26:04) [GCC 10.4.0]', 'platform': 'Linux-5.15.0-58-generic-x86_64-with-glibc2.35', 'event': 'created'}\n",
      "INFO:gensim.models.ldamodel:using symmetric alpha at 0.5\n",
      "INFO:gensim.models.ldamodel:using symmetric eta at 0.5\n",
      "INFO:gensim.models.ldamodel:using serial LDA version on this node\n",
      "INFO:gensim.models.ldamodel:running online (single-pass) LDA training, 2 topics, 1 passes over the supplied corpus of 9 documents, updating model once every 9 documents, evaluating perplexity every 9 documents, iterating 1x with a convergence threshold of 0.001000\n",
      "WARNING:gensim.models.ldamodel:too few updates, training might not converge; consider increasing the number of passes or iterations to improve accuracy\n",
      "DEBUG:gensim.models.ldamodel:bound: at document #0\n",
      "INFO:gensim.models.ldamodel:-3.305 per-word bound, 9.9 perplexity estimate based on a held-out corpus of 9 documents with 29 words\n",
      "INFO:gensim.models.ldamodel:PROGRESS: pass 0, at document #9/9\n",
      "DEBUG:gensim.models.ldamodel:performing inference on a chunk of 9 documents\n",
      "DEBUG:gensim.models.ldamodel:0/9 documents converged within 1 iterations\n",
      "DEBUG:gensim.models.ldamodel:updating topics\n",
      "INFO:gensim.models.ldamodel:topic #0 (0.500): 0.116*\"system\" + 0.108*\"trees\" + 0.096*\"user\" + 0.092*\"graph\" + 0.080*\"response\" + 0.079*\"computer\" + 0.078*\"time\" + 0.075*\"minors\" + 0.072*\"survey\" + 0.070*\"human\"\n",
      "INFO:gensim.models.ldamodel:topic #1 (0.500): 0.128*\"system\" + 0.104*\"graph\" + 0.099*\"user\" + 0.086*\"trees\" + 0.081*\"interface\" + 0.080*\"eps\" + 0.076*\"human\" + 0.074*\"survey\" + 0.071*\"minors\" + 0.068*\"time\"\n",
      "INFO:gensim.models.ldamodel:topic diff=0.192834, rho=1.000000\n",
      "DEBUG:gensim.utils:starting a new internal lifecycle event log for LdaModel\n",
      "INFO:gensim.utils:LdaModel lifecycle event {'msg': 'trained LdaModel<num_terms=12, num_topics=2, decay=0.5, chunksize=2000> in 0.02s', 'datetime': '2023-01-31T12:29:20.164893', 'gensim': '4.3.0', 'python': '3.10.8 | packaged by conda-forge | (main, Nov 22 2022, 08:26:04) [GCC 10.4.0]', 'platform': 'Linux-5.15.0-58-generic-x86_64-with-glibc2.35', 'event': 'created'}\n"
     ]
    }
   ],
   "source": [
    "goodLdaModel = LdaModel(corpus=bow_corpus, id2word=vocab, iterations=50, num_topics=2)\n",
    "badLdaModel = LdaModel(corpus=bow_corpus, id2word=vocab, iterations=1, num_topics=2)"
   ]
  },
  {
   "cell_type": "markdown",
   "metadata": {},
   "source": [
    "### Get Coherence Model - `u_mass`"
   ]
  },
  {
   "cell_type": "code",
   "execution_count": 12,
   "metadata": {},
   "outputs": [
    {
     "name": "stderr",
     "output_type": "stream",
     "text": [
      "DEBUG:gensim.models.coherencemodel:Setting topics to those of the model: LdaModel<num_terms=12, num_topics=2, decay=0.5, chunksize=2000>\n",
      "DEBUG:gensim.models.coherencemodel:Setting topics to those of the model: LdaModel<num_terms=12, num_topics=2, decay=0.5, chunksize=2000>\n"
     ]
    }
   ],
   "source": [
    "good_cm = CoherenceModel(model=goodLdaModel, corpus=bow_corpus, dictionary=vocab, coherence='u_mass')\n",
    "bad_cm = CoherenceModel(model=badLdaModel, corpus=bow_corpus, dictionary=vocab, coherence='u_mass')"
   ]
  },
  {
   "attachments": {},
   "cell_type": "markdown",
   "metadata": {},
   "source": [
    "### Get Coherence Model - `c_v`"
   ]
  },
  {
   "cell_type": "code",
   "execution_count": 13,
   "metadata": {},
   "outputs": [
    {
     "name": "stderr",
     "output_type": "stream",
     "text": [
      "DEBUG:gensim.models.coherencemodel:Setting topics to those of the model: LdaModel<num_terms=12, num_topics=2, decay=0.5, chunksize=2000>\n",
      "DEBUG:gensim.models.coherencemodel:Setting topics to those of the model: LdaModel<num_terms=12, num_topics=2, decay=0.5, chunksize=2000>\n"
     ]
    }
   ],
   "source": [
    "good_cm = CoherenceModel(model=goodLdaModel, texts=texts, dictionary=vocab, coherence='c_v')\n",
    "bad_cm = CoherenceModel(model=badLdaModel, texts=texts, dictionary=vocab, coherence='c_v')"
   ]
  },
  {
   "attachments": {},
   "cell_type": "markdown",
   "metadata": {},
   "source": [
    "### Print Coherence Values"
   ]
  },
  {
   "cell_type": "code",
   "execution_count": null,
   "metadata": {},
   "outputs": [],
   "source": [
    "print(good_cm.get_coherence())\n",
    "print(bad_cm.get_coherence())"
   ]
  },
  {
   "attachments": {},
   "cell_type": "markdown",
   "metadata": {},
   "source": [
    "### Visualise Model"
   ]
  },
  {
   "cell_type": "code",
   "execution_count": 15,
   "metadata": {},
   "outputs": [
    {
     "name": "stderr",
     "output_type": "stream",
     "text": [
      "DEBUG:gensim.models.ldamodel:performing inference on a chunk of 9 documents\n",
      "DEBUG:gensim.models.ldamodel:9/9 documents converged within 50 iterations\n"
     ]
    },
    {
     "data": {
      "text/html": [
       "\n",
       "<link rel=\"stylesheet\" type=\"text/css\" href=\"https://cdn.jsdelivr.net/gh/bmabey/pyLDAvis@3.3.1/pyLDAvis/js/ldavis.v1.0.0.css\">\n",
       "\n",
       "\n",
       "<div id=\"ldavis_el750541403654312305762930729157\"></div>\n",
       "<script type=\"text/javascript\">\n",
       "\n",
       "var ldavis_el750541403654312305762930729157_data = {\"mdsDat\": {\"x\": [0.01714803092881272, -0.01714803092881272], \"y\": [0.0, 0.0], \"topics\": [1, 2], \"cluster\": [1, 1], \"Freq\": [61.075981509628086, 38.92401849037192]}, \"tinfo\": {\"Term\": [\"graph\", \"minors\", \"human\", \"interface\", \"computer\", \"survey\", \"trees\", \"eps\", \"system\", \"user\", \"time\", \"response\", \"user\", \"system\", \"time\", \"response\", \"eps\", \"trees\", \"survey\", \"computer\", \"interface\", \"human\", \"graph\", \"minors\", \"minors\", \"graph\", \"human\", \"interface\", \"computer\", \"survey\", \"trees\", \"eps\", \"response\", \"time\", \"system\", \"user\"], \"Freq\": [2.0, 2.0, 2.0, 2.0, 2.0, 2.0, 2.0, 2.0, 3.0, 2.0, 2.0, 2.0, 2.143205547663095, 2.6638242689799627, 1.5794366655444811, 1.4709604271572863, 1.3803049985241127, 1.8120779264631859, 1.224718199448263, 1.216276138151894, 1.1970582155524925, 1.085926842523846, 1.1366260578566179, 0.8016195251217433, 1.3108049217995597, 1.681246525656247, 1.031976775029193, 0.9229861841448657, 0.9041390333027425, 0.8958595380269775, 1.018808520627766, 0.7432711969547869, 0.6543621204434767, 0.5479768381004069, 0.882469506925205, 0.6940638502887173], \"Total\": [2.0, 2.0, 2.0, 2.0, 2.0, 2.0, 2.0, 2.0, 3.0, 2.0, 2.0, 2.0, 2.837269397951812, 3.5462937759051676, 2.1274135036448882, 2.125322547600763, 2.1235761954788996, 2.830886447090952, 2.1205777374752404, 2.1204151714546366, 2.120044399697358, 2.117903617553039, 2.817872583512865, 2.112424446921303, 2.112424446921303, 2.817872583512865, 2.117903617553039, 2.120044399697358, 2.1204151714546366, 2.1205777374752404, 2.830886447090952, 2.1235761954788996, 2.125322547600763, 2.1274135036448882, 3.5462937759051676, 2.837269397951812], \"Category\": [\"Default\", \"Default\", \"Default\", \"Default\", \"Default\", \"Default\", \"Default\", \"Default\", \"Default\", \"Default\", \"Default\", \"Default\", \"Topic1\", \"Topic1\", \"Topic1\", \"Topic1\", \"Topic1\", \"Topic1\", \"Topic1\", \"Topic1\", \"Topic1\", \"Topic1\", \"Topic1\", \"Topic1\", \"Topic2\", \"Topic2\", \"Topic2\", \"Topic2\", \"Topic2\", \"Topic2\", \"Topic2\", \"Topic2\", \"Topic2\", \"Topic2\", \"Topic2\", \"Topic2\"], \"logprob\": [12.0, 11.0, 10.0, 9.0, 8.0, 7.0, 6.0, 5.0, 4.0, 3.0, 2.0, 1.0, -2.1119, -1.8945, -2.4172, -2.4883, -2.5519, -2.2798, -2.6715, -2.6785, -2.6944, -2.7918, -2.7462, -3.0954, -2.1531, -1.9042, -2.3923, -2.5039, -2.5245, -2.5337, -2.4051, -2.7204, -2.8478, -3.0253, -2.5488, -2.7889], \"loglift\": [12.0, 11.0, 10.0, 9.0, 8.0, 7.0, 6.0, 5.0, 4.0, 3.0, 2.0, 1.0, 0.2125, 0.2069, 0.1952, 0.125, 0.0623, 0.0469, -0.0559, -0.0628, -0.0785, -0.1749, -0.4149, -0.4759, 0.4664, 0.4271, 0.2246, 0.112, 0.0912, 0.0819, -0.0784, -0.1062, -0.2345, -0.4129, -0.4474, -0.4645]}, \"token.table\": {\"Topic\": [1, 2, 1, 2, 1, 2, 1, 2, 1, 2, 1, 2, 1, 2, 1, 2, 1, 2, 1, 2, 1, 2, 1, 2], \"Freq\": [0.47160575601521704, 0.47160575601521704, 0.47090375289052644, 0.47090375289052644, 0.354877649845105, 0.70975529969021, 0.4721650181396684, 0.4721650181396684, 0.47168823452129244, 0.47168823452129244, 0.47338971173971384, 0.47338971173971384, 0.47051681690804126, 0.47051681690804126, 0.47156960215502397, 0.47156960215502397, 0.8459536038393407, 0.28198453461311357, 0.9401087266642845, 0.47005436333214223, 0.7064924847322014, 0.3532462423661007, 0.7049031020613602, 0.3524515510306801], \"Term\": [\"computer\", \"computer\", \"eps\", \"eps\", \"graph\", \"graph\", \"human\", \"human\", \"interface\", \"interface\", \"minors\", \"minors\", \"response\", \"response\", \"survey\", \"survey\", \"system\", \"system\", \"time\", \"time\", \"trees\", \"trees\", \"user\", \"user\"]}, \"R\": 12, \"lambda.step\": 0.01, \"plot.opts\": {\"xlab\": \"PC1\", \"ylab\": \"PC2\"}, \"topic.order\": [2, 1]};\n",
       "\n",
       "function LDAvis_load_lib(url, callback){\n",
       "  var s = document.createElement('script');\n",
       "  s.src = url;\n",
       "  s.async = true;\n",
       "  s.onreadystatechange = s.onload = callback;\n",
       "  s.onerror = function(){console.warn(\"failed to load library \" + url);};\n",
       "  document.getElementsByTagName(\"head\")[0].appendChild(s);\n",
       "}\n",
       "\n",
       "if(typeof(LDAvis) !== \"undefined\"){\n",
       "   // already loaded: just create the visualization\n",
       "   !function(LDAvis){\n",
       "       new LDAvis(\"#\" + \"ldavis_el750541403654312305762930729157\", ldavis_el750541403654312305762930729157_data);\n",
       "   }(LDAvis);\n",
       "}else if(typeof define === \"function\" && define.amd){\n",
       "   // require.js is available: use it to load d3/LDAvis\n",
       "   require.config({paths: {d3: \"https://d3js.org/d3.v5\"}});\n",
       "   require([\"d3\"], function(d3){\n",
       "      window.d3 = d3;\n",
       "      LDAvis_load_lib(\"https://cdn.jsdelivr.net/gh/bmabey/pyLDAvis@3.3.1/pyLDAvis/js/ldavis.v3.0.0.js\", function(){\n",
       "        new LDAvis(\"#\" + \"ldavis_el750541403654312305762930729157\", ldavis_el750541403654312305762930729157_data);\n",
       "      });\n",
       "    });\n",
       "}else{\n",
       "    // require.js not available: dynamically load d3 & LDAvis\n",
       "    LDAvis_load_lib(\"https://d3js.org/d3.v5.js\", function(){\n",
       "         LDAvis_load_lib(\"https://cdn.jsdelivr.net/gh/bmabey/pyLDAvis@3.3.1/pyLDAvis/js/ldavis.v3.0.0.js\", function(){\n",
       "                 new LDAvis(\"#\" + \"ldavis_el750541403654312305762930729157\", ldavis_el750541403654312305762930729157_data);\n",
       "            })\n",
       "         });\n",
       "}\n",
       "</script>"
      ],
      "text/plain": [
       "PreparedData(topic_coordinates=              x    y  topics  cluster       Freq\n",
       "topic                                           \n",
       "1      0.017148  0.0       1        1  61.075982\n",
       "0     -0.017148  0.0       2        1  38.924018, topic_info=         Term      Freq     Total Category  logprob  loglift\n",
       "10      graph  2.000000  2.000000  Default  12.0000  12.0000\n",
       "11     minors  2.000000  2.000000  Default  11.0000  11.0000\n",
       "1       human  2.000000  2.000000  Default  10.0000  10.0000\n",
       "2   interface  2.000000  2.000000  Default   9.0000   9.0000\n",
       "0    computer  2.000000  2.000000  Default   8.0000   8.0000\n",
       "4      survey  2.000000  2.000000  Default   7.0000   7.0000\n",
       "9       trees  2.000000  2.000000  Default   6.0000   6.0000\n",
       "8         eps  2.000000  2.000000  Default   5.0000   5.0000\n",
       "5      system  3.000000  3.000000  Default   4.0000   4.0000\n",
       "7        user  2.000000  2.000000  Default   3.0000   3.0000\n",
       "6        time  2.000000  2.000000  Default   2.0000   2.0000\n",
       "3    response  2.000000  2.000000  Default   1.0000   1.0000\n",
       "7        user  2.143206  2.837269   Topic1  -2.1119   0.2125\n",
       "5      system  2.663824  3.546294   Topic1  -1.8945   0.2069\n",
       "6        time  1.579437  2.127414   Topic1  -2.4172   0.1952\n",
       "3    response  1.470960  2.125323   Topic1  -2.4883   0.1250\n",
       "8         eps  1.380305  2.123576   Topic1  -2.5519   0.0623\n",
       "9       trees  1.812078  2.830886   Topic1  -2.2798   0.0469\n",
       "4      survey  1.224718  2.120578   Topic1  -2.6715  -0.0559\n",
       "0    computer  1.216276  2.120415   Topic1  -2.6785  -0.0628\n",
       "2   interface  1.197058  2.120044   Topic1  -2.6944  -0.0785\n",
       "1       human  1.085927  2.117904   Topic1  -2.7918  -0.1749\n",
       "10      graph  1.136626  2.817873   Topic1  -2.7462  -0.4149\n",
       "11     minors  0.801620  2.112424   Topic1  -3.0954  -0.4759\n",
       "11     minors  1.310805  2.112424   Topic2  -2.1531   0.4664\n",
       "10      graph  1.681247  2.817873   Topic2  -1.9042   0.4271\n",
       "1       human  1.031977  2.117904   Topic2  -2.3923   0.2246\n",
       "2   interface  0.922986  2.120044   Topic2  -2.5039   0.1120\n",
       "0    computer  0.904139  2.120415   Topic2  -2.5245   0.0912\n",
       "4      survey  0.895860  2.120578   Topic2  -2.5337   0.0819\n",
       "9       trees  1.018809  2.830886   Topic2  -2.4051  -0.0784\n",
       "8         eps  0.743271  2.123576   Topic2  -2.7204  -0.1062\n",
       "3    response  0.654362  2.125323   Topic2  -2.8478  -0.2345\n",
       "6        time  0.547977  2.127414   Topic2  -3.0253  -0.4129\n",
       "5      system  0.882470  3.546294   Topic2  -2.5488  -0.4474\n",
       "7        user  0.694064  2.837269   Topic2  -2.7889  -0.4645, token_table=      Topic      Freq       Term\n",
       "term                            \n",
       "0         1  0.471606   computer\n",
       "0         2  0.471606   computer\n",
       "8         1  0.470904        eps\n",
       "8         2  0.470904        eps\n",
       "10        1  0.354878      graph\n",
       "10        2  0.709755      graph\n",
       "1         1  0.472165      human\n",
       "1         2  0.472165      human\n",
       "2         1  0.471688  interface\n",
       "2         2  0.471688  interface\n",
       "11        1  0.473390     minors\n",
       "11        2  0.473390     minors\n",
       "3         1  0.470517   response\n",
       "3         2  0.470517   response\n",
       "4         1  0.471570     survey\n",
       "4         2  0.471570     survey\n",
       "5         1  0.845954     system\n",
       "5         2  0.281985     system\n",
       "6         1  0.940109       time\n",
       "6         2  0.470054       time\n",
       "9         1  0.706492      trees\n",
       "9         2  0.353246      trees\n",
       "7         1  0.704903       user\n",
       "7         2  0.352452       user, R=12, lambda_step=0.01, plot_opts={'xlab': 'PC1', 'ylab': 'PC2'}, topic_order=[2, 1])"
      ]
     },
     "execution_count": 15,
     "metadata": {},
     "output_type": "execute_result"
    }
   ],
   "source": [
    "pyLDAvis.enable_notebook()\n",
    "pyLDAvis.gensim_models.prepare(goodLdaModel, bow_corpus, vocab)"
   ]
  },
  {
   "cell_type": "code",
   "execution_count": 16,
   "metadata": {},
   "outputs": [
    {
     "name": "stderr",
     "output_type": "stream",
     "text": [
      "DEBUG:gensim.models.ldamodel:performing inference on a chunk of 9 documents\n",
      "DEBUG:gensim.models.ldamodel:0/9 documents converged within 1 iterations\n"
     ]
    },
    {
     "data": {
      "text/html": [
       "\n",
       "<link rel=\"stylesheet\" type=\"text/css\" href=\"https://cdn.jsdelivr.net/gh/bmabey/pyLDAvis@3.3.1/pyLDAvis/js/ldavis.v1.0.0.css\">\n",
       "\n",
       "\n",
       "<div id=\"ldavis_el750541403654319795043512831870\"></div>\n",
       "<script type=\"text/javascript\">\n",
       "\n",
       "var ldavis_el750541403654319795043512831870_data = {\"mdsDat\": {\"x\": [0.0012469250126741877, -0.0012469250126741877], \"y\": [0.0, 0.0], \"topics\": [1, 2], \"cluster\": [1, 1], \"Freq\": [52.27070514538356, 47.72929485461644]}, \"tinfo\": {\"Term\": [\"interface\", \"eps\", \"graph\", \"system\", \"human\", \"trees\", \"user\", \"survey\", \"response\", \"computer\", \"time\", \"minors\", \"trees\", \"response\", \"computer\", \"time\", \"minors\", \"survey\", \"user\", \"human\", \"system\", \"graph\", \"eps\", \"interface\", \"interface\", \"eps\", \"graph\", \"system\", \"human\", \"user\", \"survey\", \"minors\", \"time\", \"computer\", \"response\", \"trees\"], \"Freq\": [2.0, 2.0, 2.0, 3.0, 2.0, 2.0, 2.0, 2.0, 2.0, 2.0, 2.0, 2.0, 1.6412075686436616, 1.2075248242240022, 1.1979057537352844, 1.1830302457840105, 1.1411115631188409, 1.0962974464966528, 1.4616062973856003, 1.0672795219002253, 1.75936322955911, 1.3906778217792244, 1.0077805394658377, 1.0047194230336878, 1.115321424329807, 1.1123164015897868, 1.4369753912192451, 1.7755900657484336, 1.0539065105622347, 1.3673463979965572, 1.0254187629840594, 0.9814233696559338, 0.9402720175483126, 0.9256693127552817, 0.9162259573791998, 1.1910290426036296], \"Total\": [2.0, 2.0, 2.0, 3.0, 2.0, 2.0, 2.0, 2.0, 2.0, 2.0, 2.0, 2.0, 2.832236611247291, 2.123750781603202, 2.123575066490566, 2.123302263332323, 2.1225349327747747, 2.121716209480712, 2.8289526953821573, 2.12118603246246, 3.5349532953075435, 2.8276532129984693, 2.1200969410556247, 2.120040847363495, 2.120040847363495, 2.1200969410556247, 2.8276532129984693, 3.5349532953075435, 2.12118603246246, 2.8289526953821573, 2.121716209480712, 2.1225349327747747, 2.123302263332323, 2.123575066490566, 2.123750781603202, 2.832236611247291], \"Category\": [\"Default\", \"Default\", \"Default\", \"Default\", \"Default\", \"Default\", \"Default\", \"Default\", \"Default\", \"Default\", \"Default\", \"Default\", \"Topic1\", \"Topic1\", \"Topic1\", \"Topic1\", \"Topic1\", \"Topic1\", \"Topic1\", \"Topic1\", \"Topic1\", \"Topic1\", \"Topic1\", \"Topic1\", \"Topic2\", \"Topic2\", \"Topic2\", \"Topic2\", \"Topic2\", \"Topic2\", \"Topic2\", \"Topic2\", \"Topic2\", \"Topic2\", \"Topic2\", \"Topic2\"], \"logprob\": [12.0, 11.0, 10.0, 9.0, 8.0, 7.0, 6.0, 5.0, 4.0, 3.0, 2.0, 1.0, -2.2231, -2.53, -2.538, -2.5505, -2.5866, -2.6266, -2.339, -2.6534, -2.1536, -2.3888, -2.7108, -2.7139, -2.5185, -2.5212, -2.2651, -2.0535, -2.5752, -2.3148, -2.6026, -2.6464, -2.6893, -2.7049, -2.7152, -2.4529], \"loglift\": [12.0, 11.0, 10.0, 9.0, 8.0, 7.0, 6.0, 5.0, 4.0, 3.0, 2.0, 1.0, 0.1031, 0.0841, 0.0762, 0.0638, 0.0281, -0.0116, -0.0116, -0.0381, -0.049, -0.0609, -0.095, -0.098, 0.0973, 0.0946, 0.0627, 0.0511, 0.0402, 0.0126, 0.0125, -0.0317, -0.0749, -0.0907, -0.1011, -0.1266]}, \"token.table\": {\"Topic\": [1, 2, 1, 2, 1, 2, 1, 2, 1, 2, 1, 2, 1, 2, 1, 2, 1, 2, 1, 2, 1, 2, 1, 2], \"Freq\": [0.4709040032442114, 0.4709040032442114, 0.4716765448952002, 0.4716765448952002, 0.3536501560386151, 0.3536501560386151, 0.47143436959138924, 0.47143436959138924, 0.471689024880634, 0.471689024880634, 0.47113476652782676, 0.47113476652782676, 0.4708650415399062, 0.4708650415399062, 0.4713165669996691, 0.4713165669996691, 0.565778337907573, 0.565778337907573, 0.4709645052751906, 0.4709645052751906, 0.7061556905442369, 0.35307784527211844, 0.35348770646902317, 0.35348770646902317], \"Term\": [\"computer\", \"computer\", \"eps\", \"eps\", \"graph\", \"graph\", \"human\", \"human\", \"interface\", \"interface\", \"minors\", \"minors\", \"response\", \"response\", \"survey\", \"survey\", \"system\", \"system\", \"time\", \"time\", \"trees\", \"trees\", \"user\", \"user\"]}, \"R\": 12, \"lambda.step\": 0.01, \"plot.opts\": {\"xlab\": \"PC1\", \"ylab\": \"PC2\"}, \"topic.order\": [1, 2]};\n",
       "\n",
       "function LDAvis_load_lib(url, callback){\n",
       "  var s = document.createElement('script');\n",
       "  s.src = url;\n",
       "  s.async = true;\n",
       "  s.onreadystatechange = s.onload = callback;\n",
       "  s.onerror = function(){console.warn(\"failed to load library \" + url);};\n",
       "  document.getElementsByTagName(\"head\")[0].appendChild(s);\n",
       "}\n",
       "\n",
       "if(typeof(LDAvis) !== \"undefined\"){\n",
       "   // already loaded: just create the visualization\n",
       "   !function(LDAvis){\n",
       "       new LDAvis(\"#\" + \"ldavis_el750541403654319795043512831870\", ldavis_el750541403654319795043512831870_data);\n",
       "   }(LDAvis);\n",
       "}else if(typeof define === \"function\" && define.amd){\n",
       "   // require.js is available: use it to load d3/LDAvis\n",
       "   require.config({paths: {d3: \"https://d3js.org/d3.v5\"}});\n",
       "   require([\"d3\"], function(d3){\n",
       "      window.d3 = d3;\n",
       "      LDAvis_load_lib(\"https://cdn.jsdelivr.net/gh/bmabey/pyLDAvis@3.3.1/pyLDAvis/js/ldavis.v3.0.0.js\", function(){\n",
       "        new LDAvis(\"#\" + \"ldavis_el750541403654319795043512831870\", ldavis_el750541403654319795043512831870_data);\n",
       "      });\n",
       "    });\n",
       "}else{\n",
       "    // require.js not available: dynamically load d3 & LDAvis\n",
       "    LDAvis_load_lib(\"https://d3js.org/d3.v5.js\", function(){\n",
       "         LDAvis_load_lib(\"https://cdn.jsdelivr.net/gh/bmabey/pyLDAvis@3.3.1/pyLDAvis/js/ldavis.v3.0.0.js\", function(){\n",
       "                 new LDAvis(\"#\" + \"ldavis_el750541403654319795043512831870\", ldavis_el750541403654319795043512831870_data);\n",
       "            })\n",
       "         });\n",
       "}\n",
       "</script>"
      ],
      "text/plain": [
       "PreparedData(topic_coordinates=              x    y  topics  cluster       Freq\n",
       "topic                                           \n",
       "0      0.001247  0.0       1        1  52.270705\n",
       "1     -0.001247  0.0       2        1  47.729295, topic_info=         Term      Freq     Total Category  logprob  loglift\n",
       "2   interface  2.000000  2.000000  Default  12.0000  12.0000\n",
       "8         eps  2.000000  2.000000  Default  11.0000  11.0000\n",
       "10      graph  2.000000  2.000000  Default  10.0000  10.0000\n",
       "5      system  3.000000  3.000000  Default   9.0000   9.0000\n",
       "1       human  2.000000  2.000000  Default   8.0000   8.0000\n",
       "9       trees  2.000000  2.000000  Default   7.0000   7.0000\n",
       "7        user  2.000000  2.000000  Default   6.0000   6.0000\n",
       "4      survey  2.000000  2.000000  Default   5.0000   5.0000\n",
       "3    response  2.000000  2.000000  Default   4.0000   4.0000\n",
       "0    computer  2.000000  2.000000  Default   3.0000   3.0000\n",
       "6        time  2.000000  2.000000  Default   2.0000   2.0000\n",
       "11     minors  2.000000  2.000000  Default   1.0000   1.0000\n",
       "9       trees  1.641208  2.832237   Topic1  -2.2231   0.1031\n",
       "3    response  1.207525  2.123751   Topic1  -2.5300   0.0841\n",
       "0    computer  1.197906  2.123575   Topic1  -2.5380   0.0762\n",
       "6        time  1.183030  2.123302   Topic1  -2.5505   0.0638\n",
       "11     minors  1.141112  2.122535   Topic1  -2.5866   0.0281\n",
       "4      survey  1.096297  2.121716   Topic1  -2.6266  -0.0116\n",
       "7        user  1.461606  2.828953   Topic1  -2.3390  -0.0116\n",
       "1       human  1.067280  2.121186   Topic1  -2.6534  -0.0381\n",
       "5      system  1.759363  3.534953   Topic1  -2.1536  -0.0490\n",
       "10      graph  1.390678  2.827653   Topic1  -2.3888  -0.0609\n",
       "8         eps  1.007781  2.120097   Topic1  -2.7108  -0.0950\n",
       "2   interface  1.004719  2.120041   Topic1  -2.7139  -0.0980\n",
       "2   interface  1.115321  2.120041   Topic2  -2.5185   0.0973\n",
       "8         eps  1.112316  2.120097   Topic2  -2.5212   0.0946\n",
       "10      graph  1.436975  2.827653   Topic2  -2.2651   0.0627\n",
       "5      system  1.775590  3.534953   Topic2  -2.0535   0.0511\n",
       "1       human  1.053907  2.121186   Topic2  -2.5752   0.0402\n",
       "7        user  1.367346  2.828953   Topic2  -2.3148   0.0126\n",
       "4      survey  1.025419  2.121716   Topic2  -2.6026   0.0125\n",
       "11     minors  0.981423  2.122535   Topic2  -2.6464  -0.0317\n",
       "6        time  0.940272  2.123302   Topic2  -2.6893  -0.0749\n",
       "0    computer  0.925669  2.123575   Topic2  -2.7049  -0.0907\n",
       "3    response  0.916226  2.123751   Topic2  -2.7152  -0.1011\n",
       "9       trees  1.191029  2.832237   Topic2  -2.4529  -0.1266, token_table=      Topic      Freq       Term\n",
       "term                            \n",
       "0         1  0.470904   computer\n",
       "0         2  0.470904   computer\n",
       "8         1  0.471677        eps\n",
       "8         2  0.471677        eps\n",
       "10        1  0.353650      graph\n",
       "10        2  0.353650      graph\n",
       "1         1  0.471434      human\n",
       "1         2  0.471434      human\n",
       "2         1  0.471689  interface\n",
       "2         2  0.471689  interface\n",
       "11        1  0.471135     minors\n",
       "11        2  0.471135     minors\n",
       "3         1  0.470865   response\n",
       "3         2  0.470865   response\n",
       "4         1  0.471317     survey\n",
       "4         2  0.471317     survey\n",
       "5         1  0.565778     system\n",
       "5         2  0.565778     system\n",
       "6         1  0.470965       time\n",
       "6         2  0.470965       time\n",
       "9         1  0.706156      trees\n",
       "9         2  0.353078      trees\n",
       "7         1  0.353488       user\n",
       "7         2  0.353488       user, R=12, lambda_step=0.01, plot_opts={'xlab': 'PC1', 'ylab': 'PC2'}, topic_order=[1, 2])"
      ]
     },
     "execution_count": 16,
     "metadata": {},
     "output_type": "execute_result"
    }
   ],
   "source": [
    "pyLDAvis.gensim_models.prepare(badLdaModel, bow_corpus, vocab)"
   ]
  }
 ],
 "metadata": {
  "kernelspec": {
   "display_name": "gcrl2000",
   "language": "python",
   "name": "python3"
  },
  "language_info": {
   "codemirror_mode": {
    "name": "ipython",
    "version": 3
   },
   "file_extension": ".py",
   "mimetype": "text/x-python",
   "name": "python",
   "nbconvert_exporter": "python",
   "pygments_lexer": "ipython3",
   "version": "3.10.8"
  },
  "orig_nbformat": 4,
  "vscode": {
   "interpreter": {
    "hash": "061547610e8fceca887a10faa2400f70de22abf81f0fbff289301edcce13ef23"
   }
  }
 },
 "nbformat": 4,
 "nbformat_minor": 2
}
