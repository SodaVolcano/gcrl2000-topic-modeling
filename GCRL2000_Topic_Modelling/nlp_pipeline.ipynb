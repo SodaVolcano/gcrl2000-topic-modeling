{
 "cells": [
  {
   "attachments": {},
   "cell_type": "markdown",
   "metadata": {},
   "source": [
    "# NLP Pipeline for Topic Modelling\n",
    "This notebook gives an example walkthrough on [topic modelling](https://en.wikipedia.org/wiki/Topic_model) using [`sklearn`](https://en.wikipedia.org/wiki/Vector_space_model) and some custom functions I wrote in `nlp.py`."
   ]
  },
  {
   "attachments": {},
   "cell_type": "markdown",
   "metadata": {},
   "source": [
    "## Overview\n"
   ]
  },
  {
   "attachments": {},
   "cell_type": "markdown",
   "metadata": {},
   "source": [
    "## 1. Preliminary Code"
   ]
  },
  {
   "cell_type": "code",
   "execution_count": null,
   "metadata": {},
   "outputs": [],
   "source": [
    "from typing import Iterable, Literal\n",
    "import re\n",
    "import string\n",
    "\n",
    "from nltk.corpus import stopwords\n",
    "from nltk import TweetTokenizer, WordNetLemmatizer, pos_tag\n",
    "import pandas as pd\n",
    "\n",
    "from nlp import *\n",
    "\n",
    "\n",
    "resources = ['corpora/stopwords', 'corpora/wordnet',\n",
    "             'taggers/averaged_perceptron_tagger']\n",
    "\n",
    "check_nltk_resources(resources)\n",
    "\n",
    "default_stopwords = stopwords.words('english')\n",
    "\n",
    "default_stopwords.extend(\n",
    "    list(string.punctuation) + [\n",
    "        'would', 'could', 'get', 'want', 'he', 'twitter', 'elon', 'musk', \n",
    "        'well', 'need', 'come', 'really', 'take', 'say', 'go', 'use', 'make',\n",
    "        'know', 'think'\n",
    "\n",
    "    ]\n",
    ")"
   ]
  }
 ],
 "metadata": {
  "kernelspec": {
   "display_name": "gcrl2000",
   "language": "python",
   "name": "python3"
  },
  "language_info": {
   "name": "python",
   "version": "3.10.8"
  },
  "orig_nbformat": 4,
  "vscode": {
   "interpreter": {
    "hash": "061547610e8fceca887a10faa2400f70de22abf81f0fbff289301edcce13ef23"
   }
  }
 },
 "nbformat": 4,
 "nbformat_minor": 2
}
