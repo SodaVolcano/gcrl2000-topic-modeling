{
 "cells": [
  {
   "cell_type": "markdown",
   "id": "4c5c49f6-dcbd-4ffd-ad94-b3c21ae9ae7e",
   "metadata": {},
   "source": [
    "# GCRL2000\n",
    "- **GOAL**: create generalised code to process twitter data and conduct topic analysis"
   ]
  },
  {
   "cell_type": "code",
   "execution_count": null,
   "id": "831ee93e-57ab-44df-a702-395182eb599d",
   "metadata": {},
   "outputs": [],
   "source": [
    "import pandas as pd"
   ]
  },
  {
   "cell_type": "code",
   "execution_count": null,
   "id": "81a6ab50-0e6a-4099-b8ad-5f275ac0ca20",
   "metadata": {},
   "outputs": [],
   "source": [
    "data_file = \"../Dataset/\n",
    "\n",
    "tweets = pd.read_csv(data_file)"
   ]
  }
 ],
 "metadata": {
  "kernelspec": {
   "display_name": "Python 3 (ipykernel)",
   "language": "python",
   "name": "python3"
  },
  "language_info": {
   "codemirror_mode": {
    "name": "ipython",
    "version": 3
   },
   "file_extension": ".py",
   "mimetype": "text/x-python",
   "name": "python",
   "nbconvert_exporter": "python",
   "pygments_lexer": "ipython3",
   "version": "3.10.8"
  }
 },
 "nbformat": 4,
 "nbformat_minor": 5
}
